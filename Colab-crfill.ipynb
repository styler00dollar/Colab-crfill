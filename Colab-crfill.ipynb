{
  "nbformat": 4,
  "nbformat_minor": 0,
  "metadata": {
    "colab": {
      "name": "Colab-crfill.ipynb",
      "private_outputs": true,
      "provenance": [],
      "collapsed_sections": []
    },
    "kernelspec": {
      "name": "python3",
      "display_name": "Python 3"
    },
    "language_info": {
      "name": "python"
    },
    "accelerator": "GPU"
  },
  "cells": [
    {
      "cell_type": "markdown",
      "metadata": {
        "id": "My0ZUuWUSb-t"
      },
      "source": [
        "# Colab-crfill\n",
        "\n",
        "Original repo: [zengxianyu/crfill](https://github.com/zengxianyu/crfill)\n",
        "\n",
        "My fork: [styler00dollar/Colab-crfill](https://github.com/styler00dollar/Colab-crfill)"
      ]
    },
    {
      "cell_type": "code",
      "metadata": {
        "id": "XXFRLpSLR5ZM"
      },
      "source": [
        "!nvidia-smi"
      ],
      "execution_count": null,
      "outputs": []
    },
    {
      "cell_type": "code",
      "metadata": {
        "id": "GJ2ctvHMR82s",
        "cellView": "form"
      },
      "source": [
        "#@title install\n",
        "%cd /content/\n",
        "!git clone --single-branch https://github.com/zengxianyu/crfill\n",
        "%cd crfill\n",
        "!git submodule init\n",
        "!git submodule update\n",
        "!chmod +x download/*\n",
        "!./download/download_model.sh\n",
        "!./download/download_datal.sh\n",
        "!mkdir /content/input\n",
        "!mkdir /content/masks\n",
        "!mkdir /content/output"
      ],
      "execution_count": null,
      "outputs": []
    },
    {
      "cell_type": "code",
      "metadata": {
        "cellView": "form",
        "id": "wkPtzMSAUqT9"
      },
      "source": [
        "#@title create masks from green marked images\n",
        "import cv2\n",
        "import glob\n",
        "import os\n",
        "import numpy as np\n",
        "from tqdm import tqdm\n",
        "rootdir = \"/content/input\"\n",
        "destdir = \"/content/masks\"\n",
        "files = glob.glob(rootdir + '/**/*.png', recursive=True)\n",
        "\n",
        "for f in tqdm(files):\n",
        "  image = cv2.imread(f)\n",
        "  mask = (1-np.all(image == [0,255,0], axis=-1).astype(int))*255\n",
        "  mask = 255-mask # inverting color\n",
        "  cv2.imwrite(os.path.join(destdir, os.path.basename(f)), mask)"
      ],
      "execution_count": null,
      "outputs": []
    },
    {
      "cell_type": "code",
      "metadata": {
        "id": "SQ5N_T8WSJcA"
      },
      "source": [
        "%cd /content/crfill\n",
        "!sudo rm -rf '/content/input/.ipynb_checkpoints'\n",
        "!python test.py \\\n",
        "\t--batchSize 1 \\\n",
        "\t--nThreads 1 \\\n",
        "\t--name objrmv \\\n",
        "\t--dataset_mode testimage \\\n",
        "\t--image_dir /content/input \\\n",
        "\t--mask_dir /content/masks \\\n",
        "  --output_dir /content/output \\\n",
        "\t--model inpaint \\\n",
        "\t--netG baseconv \\\n",
        "  --which_epoch latest \\\n",
        "\t--load_baseg"
      ],
      "execution_count": null,
      "outputs": []
    },
    {
      "cell_type": "code",
      "metadata": {
        "cellView": "form",
        "id": "IiLjc_FBTukI"
      },
      "source": [
        "#@title delete files\n",
        "%cd /content/\n",
        "!sudo rm -rf /content/input\n",
        "!sudo rm -rf /content/masks\n",
        "!sudo rm -rf /content/output\n",
        "!mkdir /content/input\n",
        "!mkdir /content/masks\n",
        "!mkdir /content/output"
      ],
      "execution_count": null,
      "outputs": []
    }
  ]
}